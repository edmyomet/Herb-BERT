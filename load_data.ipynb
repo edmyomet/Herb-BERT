{
  "cells": [
    {
      "cell_type": "markdown",
      "metadata": {
        "id": "view-in-github",
        "colab_type": "text"
      },
      "source": [
        "<a href=\"https://colab.research.google.com/github/edmyomet/Herb-BERT/blob/main/load_data.ipynb\" target=\"_parent\"><img src=\"https://colab.research.google.com/assets/colab-badge.svg\" alt=\"Open In Colab\"/></a>"
      ]
    },
    {
      "cell_type": "code",
      "execution_count": null,
      "metadata": {
        "colab": {
          "base_uri": "https://localhost:8080/"
        },
        "id": "xvwQ5-TNeHQo",
        "outputId": "afce5c3c-46a3-472b-fd11-8116cc7af795"
      },
      "outputs": [
        {
          "name": "stdout",
          "output_type": "stream",
          "text": [
            "Mounted at /content/gdrive\n"
          ]
        }
      ],
      "source": [
        "from google.colab import drive\n",
        "drive.mount('/content/gdrive')"
      ]
    },
    {
      "cell_type": "code",
      "execution_count": null,
      "metadata": {
        "colab": {
          "base_uri": "https://localhost:8080/"
        },
        "id": "tUh5mvFhqB9n",
        "outputId": "23737583-0369-4faf-afef-61d124e6aebe"
      },
      "outputs": [
        {
          "name": "stdout",
          "output_type": "stream",
          "text": [
            "Requirement already satisfied: pdfplumber in /usr/local/lib/python3.10/dist-packages (0.11.4)\n",
            "Requirement already satisfied: pdfminer.six==20231228 in /usr/local/lib/python3.10/dist-packages (from pdfplumber) (20231228)\n",
            "Requirement already satisfied: Pillow>=9.1 in /usr/local/lib/python3.10/dist-packages (from pdfplumber) (10.4.0)\n",
            "Requirement already satisfied: pypdfium2>=4.18.0 in /usr/local/lib/python3.10/dist-packages (from pdfplumber) (4.30.0)\n",
            "Requirement already satisfied: charset-normalizer>=2.0.0 in /usr/local/lib/python3.10/dist-packages (from pdfminer.six==20231228->pdfplumber) (3.3.2)\n",
            "Requirement already satisfied: cryptography>=36.0.0 in /usr/local/lib/python3.10/dist-packages (from pdfminer.six==20231228->pdfplumber) (43.0.1)\n",
            "Requirement already satisfied: cffi>=1.12 in /usr/local/lib/python3.10/dist-packages (from cryptography>=36.0.0->pdfminer.six==20231228->pdfplumber) (1.17.1)\n",
            "Requirement already satisfied: pycparser in /usr/local/lib/python3.10/dist-packages (from cffi>=1.12->cryptography>=36.0.0->pdfminer.six==20231228->pdfplumber) (2.22)\n",
            "Requirement already satisfied: pypdf2 in /usr/local/lib/python3.10/dist-packages (3.0.1)\n",
            "Requirement already satisfied: pyPDF2 in /usr/local/lib/python3.10/dist-packages (3.0.1)\n",
            "Collecting PyMuPDF\n",
            "  Downloading PyMuPDF-1.24.11-cp38-abi3-manylinux2014_x86_64.manylinux_2_17_x86_64.whl.metadata (3.4 kB)\n",
            "Downloading PyMuPDF-1.24.11-cp38-abi3-manylinux2014_x86_64.manylinux_2_17_x86_64.whl (19.6 MB)\n",
            "\u001b[2K   \u001b[90m━━━━━━━━━━━━━━━━━━━━━━━━━━━━━━━━━━━━━━━━\u001b[0m \u001b[32m19.6/19.6 MB\u001b[0m \u001b[31m65.7 MB/s\u001b[0m eta \u001b[36m0:00:00\u001b[0m\n",
            "\u001b[?25hInstalling collected packages: PyMuPDF\n",
            "Successfully installed PyMuPDF-1.24.11\n"
          ]
        }
      ],
      "source": [
        "%pip install pdfplumber\n",
        "%pip install pypdf2\n",
        "%pip install pyPDF2\n",
        "%pip install PyMuPDF"
      ]
    },
    {
      "cell_type": "code",
      "execution_count": null,
      "metadata": {
        "id": "rNJXmjpV1seQ"
      },
      "outputs": [],
      "source": [
        "import json\n",
        "import pdfplumber"
      ]
    },
    {
      "cell_type": "code",
      "execution_count": null,
      "metadata": {
        "id": "slWUKkpNg5Rq"
      },
      "outputs": [],
      "source": [
        "from PyPDF2 import PdfReader\n",
        "import fitz"
      ]
    },
    {
      "cell_type": "markdown",
      "source": [
        "# Extracting data from C.P. KHARE INDIAN MEDICINAL HERBS\n",
        "### this data is extracted in order to train SLMs/LLMs to label images appropriately, and used to annotate research papers to further generate information on the herbs\n"
      ],
      "metadata": {
        "id": "zNYPPN8A9h0_"
      }
    },
    {
      "cell_type": "code",
      "execution_count": null,
      "metadata": {
        "id": "ajUxZmzx17Rf"
      },
      "outputs": [],
      "source": [
        "root_file_path:str=rf'/content/gdrive/MyDrive/herbology/herbology books/'\n",
        "headings:list[str] = ['Synonym','Family','Habitat','English','Ayurvedic','Unani','Siddha/Tamil','Folk','Action','Dosage']"
      ]
    },
    {
      "cell_type": "code",
      "execution_count": 256,
      "metadata": {
        "id": "HLCcE0Qy4B27"
      },
      "outputs": [],
      "source": [
        "import fitz  # PyMuPDF\n",
        "\n",
        "def herbology_detail_extraction(**kwargs) -> dict[str,dict[str,str]]:\n",
        "    book = fitz.open(kwargs['file_path'])\n",
        "    threshold_heading_size: float = 8.468199729919434\n",
        "    threshold_title_size: float = 10.460800170898438\n",
        "    title_print_style: int = 20\n",
        "    data: dict[str, dict[str, str]] = {}\n",
        "\n",
        "    for page_num in range(book.page_count):\n",
        "        page = book.load_page(page_num)\n",
        "        blocks = page.get_text(\"dict\")['blocks']\n",
        "\n",
        "        title: str = \"\"\n",
        "        heading: str = \"\"\n",
        "        current_text: str = \"\"\n",
        "\n",
        "        for block in blocks:\n",
        "            for line in block.get(\"lines\", []):\n",
        "                for span in line.get(\"spans\", []):\n",
        "                    text = span['text'].strip(\"\\n\").strip('▶')\n",
        "                    font_size = span['size']\n",
        "                    font_style = span['flags']\n",
        "                    if font_size == threshold_title_size and font_style == title_print_style:\n",
        "                        if title and heading:\n",
        "                            data[title][heading] += current_text.strip()\n",
        "                        title = text\n",
        "                        heading = \"\"\n",
        "                        current_text = \"\"\n",
        "                        data[title] = {heading: \"\" for heading in headings}\n",
        "                        continue\n",
        "\n",
        "\n",
        "                    elif font_size == threshold_heading_size and text in headings:\n",
        "                        if title:\n",
        "                            if heading:\n",
        "                                data[title][heading] += current_text.strip()\n",
        "                            heading = text\n",
        "                            current_text = \"\"\n",
        "                            continue\n",
        "\n",
        "\n",
        "                    if title and heading:\n",
        "                        current_text += text + \" \"\n",
        "\n",
        "\n",
        "        if title and heading:\n",
        "            data[title][heading] += current_text.strip()\n",
        "    #print(data)\n",
        "    return data"
      ]
    },
    {
      "cell_type": "code",
      "source": [
        "def convert_to_json(**kwargs)->None:\n",
        "    with open(kwargs['file_path'],'w+',encoding='utf-8') as json_file:\n",
        "        json.dump(kwargs['data'],json_file, indent=4,ensure_ascii=False)"
      ],
      "metadata": {
        "id": "usIwBQbN61cY"
      },
      "execution_count": 257,
      "outputs": []
    },
    {
      "cell_type": "code",
      "execution_count": 258,
      "metadata": {
        "id": "aL6yK5N7mfZO"
      },
      "outputs": [],
      "source": [
        "data = {\"root\":[herbology_detail_extraction(file_path=root_file_path+'book-4.pdf')]}\n",
        "convert_to_json(file_path=root_file_path+f'json_data{1}.json', data=data)"
      ]
    }
  ],
  "metadata": {
    "accelerator": "GPU",
    "colab": {
      "gpuType": "T4",
      "provenance": [],
      "authorship_tag": "ABX9TyNnja/Uf4EXYY8842zJ7ob7",
      "include_colab_link": true
    },
    "kernelspec": {
      "display_name": "Python 3",
      "name": "python3"
    },
    "language_info": {
      "name": "python"
    }
  },
  "nbformat": 4,
  "nbformat_minor": 0
}